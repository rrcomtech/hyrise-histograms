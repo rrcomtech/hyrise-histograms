{
 "cells": [
  {
   "cell_type": "markdown",
   "id": "bf0ee5c2-433b-49cd-b336-123b375a7b9f",
   "metadata": {
    "tags": []
   },
   "source": [
    "# generate_error_table"
   ]
  },
  {
   "cell_type": "markdown",
   "id": "8c62db79-9d8b-4164-9c3e-da355e58d639",
   "metadata": {},
   "source": [
    "## imports"
   ]
  },
  {
   "cell_type": "code",
   "execution_count": null,
   "id": "14dfa926-64b4-464c-9276-997d740877d8",
   "metadata": {},
   "outputs": [],
   "source": [
    "import pandas as pd\n",
    "import matplotlib.pyplot as plt\n",
    "import numpy as np\n",
    "import seaborn as sns\n",
    "import glob\n",
    "import os\n",
    "\n",
    "%matplotlib inline"
   ]
  },
  {
   "cell_type": "markdown",
   "id": "5e8953de-426f-41a2-a331-d44f0184cca0",
   "metadata": {},
   "source": [
    "## load data"
   ]
  },
  {
   "cell_type": "code",
   "execution_count": null,
   "id": "852360f6-557a-4dc1-88ab-5eb670be08fb",
   "metadata": {
    "tags": []
   },
   "outputs": [],
   "source": [
    "df0 = pd.read_csv('data/20230221/equaldistinctcount_20230221.csv')\n",
    "df1 = pd.read_csv('data/20230221/equiheight_20230221.csv')\n",
    "df2 = pd.read_csv('data/20230221/equiwidth_20230221.csv')\n",
    "df3 = pd.read_csv('data/20230221/gdy_20230221.csv')\n",
    "df4 = pd.read_csv('data/20230221/maxdiff_20230221.csv')\n",
    "df5 = pd.read_csv('data/20230221/maxdiff_area_20230224.csv')\n",
    "df = pd.concat([df0, df1, df2, df3, df4, df5], axis=0)\n",
    "#df = df.fillna('TPC-DS')"
   ]
  },
  {
   "cell_type": "markdown",
   "id": "59925590-8eb8-4618-b99a-564ca65f2dc6",
   "metadata": {
    "tags": []
   },
   "source": [
    "## generate errors"
   ]
  },
  {
   "cell_type": "code",
   "execution_count": null,
   "id": "64c58e36-b836-4dbe-a347-5abe4d4dcbb0",
   "metadata": {},
   "outputs": [],
   "source": [
    "def generate_errors(df):\n",
    "    df = df.copy()  # Convenience\n",
    "    \n",
    "    df['absolute_error'] = np.absolute(df['estimated_output'] - df['real_output'])\n",
    "    df['relative_error'] = df['absolute_error'] / df['real_output']\n",
    "    df['x'] = df['estimated_output'] / df['real_output']\n",
    "    df['1/x'] = 1 / df['x']\n",
    "    df['q_error'] = df[['x','1/x']].max(axis=1)\n",
    "    df['real_output_lower_bound'] = df['real_output']\n",
    "    df['real_output_lower_bound'] = df['real_output_lower_bound'].clip(1)\n",
    "    df['estimated_output_lower_bound'] = df['estimated_output']\n",
    "    df['estimated_output_lower_bound'] = df['estimated_output_lower_bound'].clip(1)\n",
    "    df['pseudo_x'] = df['estimated_output_lower_bound'] / df['real_output_lower_bound']\n",
    "    df['pseudo_1/x'] = 1 / df['pseudo_x']\n",
    "    df['pseudo_q_error'] = df[['pseudo_x','pseudo_1/x']].max(axis=1)\n",
    "    df['mean_squared_error'] = df['absolute_error'] ** 2\n",
    "    df.drop(['x', '1/x', 'real_output_lower_bound', 'estimated_output_lower_bound', 'pseudo_x', 'pseudo_1/x'], axis=1, inplace = True)\n",
    "\n",
    "    return df"
   ]
  },
  {
   "cell_type": "markdown",
   "id": "d235f5fa-a6cd-4daf-a33f-1077f0155fa4",
   "metadata": {},
   "source": [
    "## result"
   ]
  },
  {
   "cell_type": "markdown",
   "id": "a3ba3595-ad3d-4a4c-a708-dac8b698e0a6",
   "metadata": {
    "tags": []
   },
   "source": [
    "### with_NULLs"
   ]
  },
  {
   "cell_type": "code",
   "execution_count": null,
   "id": "1135fb8a-d638-44fb-9762-670b0096340b",
   "metadata": {},
   "outputs": [],
   "source": [
    "df_with_errors = generate_errors(df)\n",
    "df_with_errors\n",
    "\n",
    "df_with_errors.groupby([#\"operator_type\",\n",
    "                        \"benchmark\",\n",
    "                        \"histogram\"]).agg(root_mean_squared_error=(\"mean_squared_error\", lambda x: np.sqrt(np.mean(x))),\n",
    "                                          mean_absolute_error=(\"absolute_error\", np.mean),\n",
    "                                          mean_relative_error=(\"relative_error\", np.mean),\n",
    "                                          mean_q_error=(\"q_error\", np.mean),\n",
    "                                          mean_pseudo_q_error=(\"pseudo_q_error\", np.mean))"
   ]
  },
  {
   "cell_type": "markdown",
   "id": "3f64f64e-a6e9-4a99-8f3d-2b16721cfff5",
   "metadata": {},
   "source": [
    "### without_NULLs"
   ]
  },
  {
   "cell_type": "code",
   "execution_count": null,
   "id": "cc45629f-28ae-437c-9f85-0fb8494cbbf9",
   "metadata": {},
   "outputs": [],
   "source": [
    "size_before = len(df)\n",
    "df = df.drop(df[df.real_output == 0].index)\n",
    "print(f\"Removed {len(df)-size_before} ({(size_before-len(df))/size_before:.2%}) rows because the 'real_output' cell was zero.\")\n",
    "df = df.drop(df[df.estimated_output == 0].index)\n",
    "print(f\"Removed {len(df)-size_before} ({(size_before-len(df))/size_before:.2%}) rows because the 'estimated_output' cell was zero.\")\n",
    "\n",
    "df_with_errors = generate_errors(df)\n",
    "\n",
    "# print as the resulting table is cut by Jupyter\n",
    "for operator in pd.unique(df_with_errors.operator_type):\n",
    "    filtered = df_with_errors.query(\"operator_type == @operator\")\n",
    "    result = filtered.groupby([\"operator_type\",\n",
    "                               \"benchmark\",\n",
    "                               \"histogram\"]).agg(root_mean_squared_error=(\"mean_squared_error\", lambda x: np.sqrt(np.mean(x))),\n",
    "                                                 mean_absolute_error=(\"absolute_error\", np.mean),\n",
    "                                                 mean_relative_error=(\"relative_error\", np.mean),\n",
    "                                                 mean_q_error=(\"q_error\", np.mean),\n",
    "                                                 mean_pseudo_q_error=(\"pseudo_q_error\", np.mean))\n",
    "    display(result)\n",
    "    melted_results = pd.melt(result.reset_index(), id_vars=[\"benchmark\", \"histogram\"],\n",
    "                             value_vars=[\"root_mean_squared_error\", \"mean_absolute_error\",\n",
    "                                         \"mean_relative_error\", \"mean_q_error\", \"mean_pseudo_q_error\"],\n",
    "                             var_name=\"metric\")\n",
    "    g = sns.FacetGrid(melted_results, col=\"benchmark\", row=\"metric\", sharey=False, aspect=2)\n",
    "    g.map_dataframe(sns.barplot, x=\"histogram\", y=\"value\", hue=\"histogram\", palette=\"Set3\")\n",
    "    g.add_legend()\n",
    "    plt.savefig(f\"{operator}_facet.pdf\")\n",
    "    plt.show()\n",
    "    display(g)\n"
   ]
  },
  {
   "cell_type": "markdown",
   "id": "23b2160f-2d6a-4d1c-b841-d79a097feecd",
   "metadata": {},
   "source": [
    "## compare_operators"
   ]
  },
  {
   "cell_type": "code",
   "execution_count": null,
   "id": "43ba039d-f46b-40d4-9ec9-ca84014b87cf",
   "metadata": {},
   "outputs": [],
   "source": [
    "grouped = df.groupby([\"benchmark\", \"histogram\", \"query\", \"operator_type\"]).size()\n",
    "\n",
    "queries = df[[\"benchmark\", \"query\"]].drop_duplicates()\n",
    "\n",
    "# super inefficient, doesn't matter for now\n",
    "op_counts = {}\n",
    "for _, outer_benchmark, outer_query in queries.itertuples():\n",
    "    for (_1, benchmark, histogram, query, operator_type, count) in grouped.reset_index().itertuples():\n",
    "        if outer_benchmark == benchmark and outer_query == query:\n",
    "            if (benchmark, query, operator_type) not in op_counts:\n",
    "                op_counts[(benchmark, query, operator_type)] = count\n",
    "                continue\n",
    "\n",
    "            if op_counts[(benchmark, query, operator_type)] != count:\n",
    "                print(f\"WARNING: different value of {count} (previously {op_counts[(benchmark, query, operator_type)]}) for {benchmark}, query {query}, op {operator_type}\")\n"
   ]
  },
  {
   "cell_type": "markdown",
   "id": "b320ab2d-cd36-4638-842b-a4a7db8c337f",
   "metadata": {
    "tags": []
   },
   "source": [
    "# Build Time Evaluation"
   ]
  },
  {
   "cell_type": "code",
   "execution_count": null,
   "id": "881dc414-8770-4192-8471-61f0456c70b6",
   "metadata": {},
   "outputs": [],
   "source": [
    "build_time_paths = glob.glob(\"data/20230303/**/*build_times*\", recursive=True)\n",
    "build_time_dataframes = []\n",
    "\n",
    "for path in build_time_paths:\n",
    "    benchmark_name = (path.split(\"/\")[-1]).split(\"-\")[0]    \n",
    "    csv = pd.read_csv(path)\n",
    "    csv.insert(0, column=\"BENCHMARK_NAME\", value=benchmark_name)    \n",
    "    build_time_dataframes.append(csv)\n",
    "    \n",
    "def filter_strings(df):\n",
    "    return df.query('COLUMN_DATA_TYPE != \"string\"')\n",
    "\n",
    "build_times = pd.concat(build_time_dataframes)\n",
    "build_times = filter_strings(build_times)"
   ]
  },
  {
   "cell_type": "markdown",
   "id": "f8c3f1f2-e570-4258-bb41-8f5352ee7b92",
   "metadata": {},
   "source": [
    "## Summed Build Time per Benchmark"
   ]
  },
  {
   "cell_type": "code",
   "execution_count": null,
   "id": "33587191-ecc4-41ac-9b74-e0525c0d7ddd",
   "metadata": {},
   "outputs": [],
   "source": [
    "def sum_grouping(df):\n",
    "    return df.drop(columns=[\"COLUMN_ID\"]).groupby([\"BENCHMARK_NAME\", \"COLUMN_DATA_TYPE\", \"HISTOGRAM_NAME\"]).sum()\n",
    "    \n",
    "display(sum_grouping(build_times))"
   ]
  },
  {
   "cell_type": "markdown",
   "id": "cd348194-c59b-4e52-8911-0829327481a6",
   "metadata": {},
   "source": [
    "### Average Build Times per Benchmark"
   ]
  },
  {
   "cell_type": "code",
   "execution_count": null,
   "id": "131254dd-dd14-447e-ba8f-dfd728e4292b",
   "metadata": {},
   "outputs": [],
   "source": [
    "def avg_grouping(df):\n",
    "    return df.drop(columns=[\"COLUMN_ID\"]).groupby([\"BENCHMARK_NAME\", \"COLUMN_DATA_TYPE\", \"HISTOGRAM_NAME\"]).mean()\n",
    "\n",
    "display(avg_grouping(build_times))"
   ]
  },
  {
   "cell_type": "markdown",
   "id": "d5a81aad-5f44-4306-b393-1502c56544af",
   "metadata": {},
   "source": [
    "## Total Build Times"
   ]
  },
  {
   "cell_type": "markdown",
   "id": "c8c81f75-0a56-4396-93b7-bd23b3363768",
   "metadata": {},
   "source": [
    "### JOB Build Times"
   ]
  },
  {
   "cell_type": "code",
   "execution_count": null,
   "id": "0348c83d-d5be-4336-a36a-96a1a1ad7776",
   "metadata": {},
   "outputs": [],
   "source": [
    "job_bts = build_times[build_times[\"BENCHMARK_NAME\"] == \"job\"]\n",
    "\n",
    "sns.set_context('paper')\n",
    "sns.set(rc={'figure.figsize':(15,5)})\n",
    "ax = sns.barplot(x = 'HISTOGRAM_NAME', y = 'BUILD_TIME', data = job_bts,\n",
    "            palette = 'Blues', edgecolor = 'w')\n",
    "ax.set(xlabel='Histogram Name', ylabel='Build Time in s')\n",
    "plt.show()"
   ]
  },
  {
   "cell_type": "markdown",
   "id": "45b3250d-5bdc-404d-abfc-c40671401fea",
   "metadata": {},
   "source": [
    "### TPCH Build Times"
   ]
  },
  {
   "cell_type": "code",
   "execution_count": null,
   "id": "10f37ef7-cbfe-4ae6-9e4b-d711c8c10100",
   "metadata": {},
   "outputs": [],
   "source": [
    "tpch_bts = build_times[build_times[\"BENCHMARK_NAME\"] == \"tpch\"]\n",
    "\n",
    "sns.set_context('paper')\n",
    "sns.set(rc={'figure.figsize':(15,5)})\n",
    "ax = sns.barplot(x = 'HISTOGRAM_NAME', y = 'BUILD_TIME', data = tpch_bts,\n",
    "            palette = 'Blues', edgecolor = 'w')\n",
    "ax.set(xlabel='Histogram Name', ylabel='Build Time in s')\n",
    "plt.show()"
   ]
  },
  {
   "cell_type": "markdown",
   "id": "a6303af0-6513-4323-aedc-da2ec272587a",
   "metadata": {},
   "source": [
    "### TPCC Build Times"
   ]
  },
  {
   "cell_type": "code",
   "execution_count": null,
   "id": "99ab594f-2265-42f1-9810-ac2dd934d1d4",
   "metadata": {},
   "outputs": [],
   "source": [
    "tpcc_bts = build_times[build_times[\"BENCHMARK_NAME\"] == \"tpcc\"]\n",
    "\n",
    "sns.set_context('paper')\n",
    "sns.set(rc={'figure.figsize':(15,5)})\n",
    "ax = sns.barplot(x = 'HISTOGRAM_NAME', y = 'BUILD_TIME', data = tpcc_bts,\n",
    "            palette = 'Blues', edgecolor = 'w')\n",
    "ax.set(xlabel='Histogram Name', ylabel='Build Time in s')\n",
    "plt.show()"
   ]
  },
  {
   "cell_type": "markdown",
   "id": "2bdfd3b3-3233-4072-b857-bb9fb2cd1596",
   "metadata": {},
   "source": [
    "### TPCDS Build Times"
   ]
  },
  {
   "cell_type": "code",
   "execution_count": null,
   "id": "506b55d8-0b8f-49b1-a260-e9fc58d98cf2",
   "metadata": {},
   "outputs": [],
   "source": [
    "tpcds_bts = build_times[build_times[\"BENCHMARK_NAME\"] == \"tpcds\"]\n",
    "\n",
    "sns.set_context('paper')\n",
    "sns.set(rc={'figure.figsize':(15,5)})\n",
    "ax = sns.barplot(x = 'HISTOGRAM_NAME', y = 'BUILD_TIME', data = tpcds_bts,\n",
    "            palette = 'Blues', edgecolor = 'w')\n",
    "ax.set(xlabel='Histogram Name', ylabel='Build Time in s')\n",
    "plt.show()"
   ]
  },
  {
   "cell_type": "markdown",
   "id": "05a43a51-e382-4559-8de0-380086533c5d",
   "metadata": {},
   "source": [
    "## Normed per 1'000'000 Values"
   ]
  },
  {
   "cell_type": "code",
   "execution_count": null,
   "id": "7e6a8822-fa5d-4c4f-9243-0056c9ec1c5a",
   "metadata": {},
   "outputs": [],
   "source": [
    "normed_build_times = avg_bts.reset_index()\n",
    "for index, unnormed_bt in normed_build_times.iterrows():\n",
    "    bt = unnormed_bt\n",
    "    \n",
    "    norm_parameter = 1_000_000    \n",
    "    ratio = norm_parameter / bt[\"TOTAL_COUNT\"]\n",
    "    normed_build_time = bt[\"BUILD_TIME\"] * ratio\n",
    "    \n",
    "    bt[\"BUILD_TIME\"] = normed_build_time\n",
    "    bt[\"TOTAL_COUNT\"] = norm_parameter\n",
    "    \n",
    "    normed_build_times.iloc[index] = unnormed_bt"
   ]
  },
  {
   "cell_type": "code",
   "execution_count": null,
   "id": "50478b91-6ed9-42ba-9f49-9ecb1fb9efc4",
   "metadata": {},
   "outputs": [],
   "source": [
    "sns.set_context('paper')\n",
    "sns.set(rc={'figure.figsize':(15,5)})\n",
    "ax = sns.barplot(x = 'HISTOGRAM_NAME', y = 'BUILD_TIME', data = normed_build_times,\n",
    "            palette = 'Blues', edgecolor = 'w')\n",
    "ax.set(xlabel='Histogram Name', ylabel='Build Time in s')\n",
    "plt.show()"
   ]
  }
 ],
 "metadata": {
  "kernelspec": {
   "display_name": "Python 3 (ipykernel)",
   "language": "python",
   "name": "python3"
  },
  "language_info": {
   "codemirror_mode": {
    "name": "ipython",
    "version": 3
   },
   "file_extension": ".py",
   "mimetype": "text/x-python",
   "name": "python",
   "nbconvert_exporter": "python",
   "pygments_lexer": "ipython3",
   "version": "3.9.13"
  }
 },
 "nbformat": 4,
 "nbformat_minor": 5
}
