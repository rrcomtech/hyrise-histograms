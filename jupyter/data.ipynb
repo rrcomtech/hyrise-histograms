{
 "cells": [
  {
   "cell_type": "markdown",
   "id": "bf0ee5c2-433b-49cd-b336-123b375a7b9f",
   "metadata": {},
   "source": [
    "# generate_error_table"
   ]
  },
  {
   "cell_type": "markdown",
   "id": "8c62db79-9d8b-4164-9c3e-da355e58d639",
   "metadata": {},
   "source": [
    "## imports"
   ]
  },
  {
   "cell_type": "code",
   "execution_count": 82,
   "id": "14dfa926-64b4-464c-9276-997d740877d8",
   "metadata": {},
   "outputs": [],
   "source": [
    "import pandas as pd"
   ]
  },
  {
   "cell_type": "markdown",
   "id": "5e8953de-426f-41a2-a331-d44f0184cca0",
   "metadata": {},
   "source": [
    "## load data"
   ]
  },
  {
   "cell_type": "code",
   "execution_count": 83,
   "id": "852360f6-557a-4dc1-88ab-5eb670be08fb",
   "metadata": {
    "tags": []
   },
   "outputs": [],
   "source": [
    "df = pd.read_csv('data/test.csv')"
   ]
  },
  {
   "cell_type": "code",
   "execution_count": 84,
   "id": "fb4d0f8c-8e5d-4fe0-b899-0423cd24fe80",
   "metadata": {},
   "outputs": [
    {
     "name": "stdout",
     "output_type": "stream",
     "text": [
      "4 Rows have been dropped because the 'real_output' cell was zero.\n"
     ]
    }
   ],
   "source": [
    "print(str(len(df.loc[df['real_output'] == 0])) + \" Rows have been dropped because the 'real_output' cell was zero.\")\n",
    "df = df.drop(df[df.real_output == 0].index)"
   ]
  },
  {
   "cell_type": "markdown",
   "id": "59925590-8eb8-4618-b99a-564ca65f2dc6",
   "metadata": {},
   "source": [
    "## generate errors"
   ]
  },
  {
   "cell_type": "code",
   "execution_count": 98,
   "id": "64c58e36-b836-4dbe-a347-5abe4d4dcbb0",
   "metadata": {},
   "outputs": [],
   "source": [
    "def generate_errors(df):\n",
    "    df['absolute_error'] = df['estimated_output'] - df['real_output']\n",
    "    df['relative_error'] = df['absolute_error'] / df['real_output']\n",
    "    df['x'] = df['estimated_output'] / df['real_output']\n",
    "    df['1/x'] = 1 / df['x']\n",
    "    df['q_error'] = df[['x','1/x']].max(axis=1)\n",
    "    df['real_output_lower_bound'] = df['real_output']\n",
    "    df['real_output_lower_bound'] = df['real_output_lower_bound'].clip(1)\n",
    "    df['estimated_output_lower_bound'] = df['estimated_output']\n",
    "    df['estimated_output_lower_bound'] = df['estimated_output_lower_bound'].clip(1)\n",
    "    df['pseudo_x'] = df['estimated_output_lower_bound'] / df['real_output_lower_bound']\n",
    "    df['pseudo_1/x'] = 1 / df['pseudo_x']\n",
    "    df['pseudo_q_error'] = df[['pseudo_x','pseudo_1/x']].max(axis=1)\n",
    "    df.drop(['x', '1/x', 'real_output_lower_bound', 'estimated_output_lower_bound', 'pseudo_x', 'pseudo_1/x'], axis=1, inplace = True)\n",
    "\n",
    "    \n",
    "def generate_MSE(df):\n",
    "    mse = 0\n",
    "    for index, row in df.iterrows():\n",
    "        mse += row['absolute_error'] ** 2\n",
    "    return mse / df.size\n",
    "\n",
    "def generate_mean_q_error(df):\n",
    "    mse = 0\n",
    "    for index, row in df.iterrows():\n",
    "        mse += row['q_error']\n",
    "    return mse / df.size\n",
    "\n",
    "def generate_mean_pseudo_q_error(df):\n",
    "    mse = 0\n",
    "    for index, row in df.iterrows():\n",
    "        mse += row['pseudo_q_error']\n",
    "    return mse / df.size\n",
    "\n",
    "def generate_mean_relative_error(df):\n",
    "    mse = 0\n",
    "    for index, row in df.iterrows():\n",
    "        mse += abs(row['relative_error'])\n",
    "    return mse / df.size\n",
    "\n",
    "def generate_mean_error(df):\n",
    "    mse = 0\n",
    "    for index, row in df.iterrows():\n",
    "        mse += abs(row['absolute_error'])\n",
    "    return mse / df.size\n",
    "\n",
    "def generate_error_table(dfs):\n",
    "    df = pd.DataFrame(columns=['histogram','benchmark','operator_type','mean_squared_error','mean_q_error','mean_pseudo_q_error','mean_relative_error','mean_error'])\n",
    "    z = 0\n",
    "    for i in range(len(dfs)):\n",
    "        for j in range(len(dfs[i])):\n",
    "            for k in range(len(dfs[i][j])):\n",
    "                generate_errors(dfs[i][j][k])\n",
    "                \n",
    "                histogram = dfs[i][j][k]['histogram'].iloc[0]\n",
    "                benchmark = dfs[i][j][k]['benchmark'].iloc[0]\n",
    "                operator = dfs[i][j][k]['operator_type'].iloc[0]\n",
    "                mean_squared_error = generate_MSE(dfs[i][j][k])\n",
    "                mean_q_error = generate_mean_q_error(dfs[i][j][k])\n",
    "                mean_pseudo_q_error = generate_mean_pseudo_q_error(dfs[i][j][k])\n",
    "                mean_relative_error = generate_mean_relative_error(dfs[i][j][k])\n",
    "                mean_error = generate_mean_error(dfs[i][j][k])\n",
    "                \n",
    "                df.loc[z] = [histogram,benchmark,operator,mean_squared_error,mean_q_error,mean_pseudo_q_error,mean_relative_error,mean_error]\n",
    "                z += 1\n",
    "    return df"
   ]
  },
  {
   "cell_type": "code",
   "execution_count": 86,
   "id": "ff961515-6f8e-4104-b5d4-2ab864c40a33",
   "metadata": {},
   "outputs": [],
   "source": [
    "dfs_by_hist = [x for _, x in df.groupby(df['histogram'])]"
   ]
  },
  {
   "cell_type": "code",
   "execution_count": 87,
   "id": "1c44b2b0-4530-458a-af54-2258b5af4fe5",
   "metadata": {},
   "outputs": [
    {
     "data": {
      "text/plain": [
       "2"
      ]
     },
     "execution_count": 87,
     "metadata": {},
     "output_type": "execute_result"
    }
   ],
   "source": [
    "len(dfs_by_hist)"
   ]
  },
  {
   "cell_type": "code",
   "execution_count": 88,
   "id": "4134a913-6551-41a6-af93-fe1def326f96",
   "metadata": {},
   "outputs": [],
   "source": [
    "df_list = []\n",
    "for x in dfs_by_hist:\n",
    "    y = [x for _, x in x.groupby(df['benchmark'])]\n",
    "    df_list.append(y)"
   ]
  },
  {
   "cell_type": "code",
   "execution_count": 89,
   "id": "903eb152-9515-4c1f-af2f-2b704e9dc5f2",
   "metadata": {},
   "outputs": [
    {
     "data": {
      "text/html": [
       "<div>\n",
       "<style scoped>\n",
       "    .dataframe tbody tr th:only-of-type {\n",
       "        vertical-align: middle;\n",
       "    }\n",
       "\n",
       "    .dataframe tbody tr th {\n",
       "        vertical-align: top;\n",
       "    }\n",
       "\n",
       "    .dataframe thead th {\n",
       "        text-align: right;\n",
       "    }\n",
       "</style>\n",
       "<table border=\"1\" class=\"dataframe\">\n",
       "  <thead>\n",
       "    <tr style=\"text-align: right;\">\n",
       "      <th></th>\n",
       "      <th>benchmark</th>\n",
       "      <th>histogram</th>\n",
       "      <th>query</th>\n",
       "      <th>operator_count</th>\n",
       "      <th>operator_type</th>\n",
       "      <th>real_input</th>\n",
       "      <th>real_output</th>\n",
       "      <th>estimated_input</th>\n",
       "      <th>estimated_output</th>\n",
       "    </tr>\n",
       "  </thead>\n",
       "  <tbody>\n",
       "    <tr>\n",
       "      <th>81</th>\n",
       "      <td>JoinOrder</td>\n",
       "      <td>EquiHeightHistogram</td>\n",
       "      <td>1a</td>\n",
       "      <td>0</td>\n",
       "      <td>JoinHashLeft</td>\n",
       "      <td>2528312</td>\n",
       "      <td>105</td>\n",
       "      <td>2528312.0</td>\n",
       "      <td>659.288025</td>\n",
       "    </tr>\n",
       "    <tr>\n",
       "      <th>82</th>\n",
       "      <td>JoinOrder</td>\n",
       "      <td>EquiHeightHistogram</td>\n",
       "      <td>1a</td>\n",
       "      <td>1</td>\n",
       "      <td>JoinHashLeft</td>\n",
       "      <td>1380035</td>\n",
       "      <td>250</td>\n",
       "      <td>1380035.0</td>\n",
       "      <td>12212.704102</td>\n",
       "    </tr>\n",
       "    <tr>\n",
       "      <th>83</th>\n",
       "      <td>JoinOrder</td>\n",
       "      <td>EquiHeightHistogram</td>\n",
       "      <td>1a</td>\n",
       "      <td>2</td>\n",
       "      <td>TableScan</td>\n",
       "      <td>113</td>\n",
       "      <td>1</td>\n",
       "      <td>113.0</td>\n",
       "      <td>1.000000</td>\n",
       "    </tr>\n",
       "    <tr>\n",
       "      <th>84</th>\n",
       "      <td>JoinOrder</td>\n",
       "      <td>EquiHeightHistogram</td>\n",
       "      <td>1a</td>\n",
       "      <td>3</td>\n",
       "      <td>JoinHashLeft</td>\n",
       "      <td>2609129</td>\n",
       "      <td>8309</td>\n",
       "      <td>2609129.0</td>\n",
       "      <td>29301.695312</td>\n",
       "    </tr>\n",
       "    <tr>\n",
       "      <th>85</th>\n",
       "      <td>JoinOrder</td>\n",
       "      <td>EquiHeightHistogram</td>\n",
       "      <td>1a</td>\n",
       "      <td>4</td>\n",
       "      <td>TableScan</td>\n",
       "      <td>4</td>\n",
       "      <td>1</td>\n",
       "      <td>4.0</td>\n",
       "      <td>1.000000</td>\n",
       "    </tr>\n",
       "  </tbody>\n",
       "</table>\n",
       "</div>"
      ],
      "text/plain": [
       "    benchmark            histogram query  operator_count operator_type  \\\n",
       "81  JoinOrder  EquiHeightHistogram    1a               0  JoinHashLeft   \n",
       "82  JoinOrder  EquiHeightHistogram    1a               1  JoinHashLeft   \n",
       "83  JoinOrder  EquiHeightHistogram    1a               2     TableScan   \n",
       "84  JoinOrder  EquiHeightHistogram    1a               3  JoinHashLeft   \n",
       "85  JoinOrder  EquiHeightHistogram    1a               4     TableScan   \n",
       "\n",
       "    real_input  real_output  estimated_input  estimated_output  \n",
       "81     2528312          105        2528312.0        659.288025  \n",
       "82     1380035          250        1380035.0      12212.704102  \n",
       "83         113            1            113.0          1.000000  \n",
       "84     2609129         8309        2609129.0      29301.695312  \n",
       "85           4            1              4.0          1.000000  "
      ]
     },
     "execution_count": 89,
     "metadata": {},
     "output_type": "execute_result"
    }
   ],
   "source": [
    "df_list[0][0]"
   ]
  },
  {
   "cell_type": "code",
   "execution_count": 90,
   "id": "e160a518-f1b5-4ab9-91aa-219f10c3d7a8",
   "metadata": {},
   "outputs": [],
   "source": [
    "for i in range(len(df_list)):\n",
    "    for j in range(len(df_list[i])):\n",
    "        y = [x for _, x in df_list[i][j].groupby(df['operator_type'])]\n",
    "        df_list[i][j] = y"
   ]
  },
  {
   "cell_type": "code",
   "execution_count": 91,
   "id": "3fdd35a5-9cde-4b22-8206-8dce70f13ca0",
   "metadata": {},
   "outputs": [
    {
     "data": {
      "text/html": [
       "<div>\n",
       "<style scoped>\n",
       "    .dataframe tbody tr th:only-of-type {\n",
       "        vertical-align: middle;\n",
       "    }\n",
       "\n",
       "    .dataframe tbody tr th {\n",
       "        vertical-align: top;\n",
       "    }\n",
       "\n",
       "    .dataframe thead th {\n",
       "        text-align: right;\n",
       "    }\n",
       "</style>\n",
       "<table border=\"1\" class=\"dataframe\">\n",
       "  <thead>\n",
       "    <tr style=\"text-align: right;\">\n",
       "      <th></th>\n",
       "      <th>benchmark</th>\n",
       "      <th>histogram</th>\n",
       "      <th>query</th>\n",
       "      <th>operator_count</th>\n",
       "      <th>operator_type</th>\n",
       "      <th>real_input</th>\n",
       "      <th>real_output</th>\n",
       "      <th>estimated_input</th>\n",
       "      <th>estimated_output</th>\n",
       "    </tr>\n",
       "  </thead>\n",
       "  <tbody>\n",
       "    <tr>\n",
       "      <th>81</th>\n",
       "      <td>JoinOrder</td>\n",
       "      <td>EquiHeightHistogram</td>\n",
       "      <td>1a</td>\n",
       "      <td>0</td>\n",
       "      <td>JoinHashLeft</td>\n",
       "      <td>2528312</td>\n",
       "      <td>105</td>\n",
       "      <td>2528312.0</td>\n",
       "      <td>659.288025</td>\n",
       "    </tr>\n",
       "    <tr>\n",
       "      <th>82</th>\n",
       "      <td>JoinOrder</td>\n",
       "      <td>EquiHeightHistogram</td>\n",
       "      <td>1a</td>\n",
       "      <td>1</td>\n",
       "      <td>JoinHashLeft</td>\n",
       "      <td>1380035</td>\n",
       "      <td>250</td>\n",
       "      <td>1380035.0</td>\n",
       "      <td>12212.704102</td>\n",
       "    </tr>\n",
       "    <tr>\n",
       "      <th>84</th>\n",
       "      <td>JoinOrder</td>\n",
       "      <td>EquiHeightHistogram</td>\n",
       "      <td>1a</td>\n",
       "      <td>3</td>\n",
       "      <td>JoinHashLeft</td>\n",
       "      <td>2609129</td>\n",
       "      <td>8309</td>\n",
       "      <td>2609129.0</td>\n",
       "      <td>29301.695312</td>\n",
       "    </tr>\n",
       "  </tbody>\n",
       "</table>\n",
       "</div>"
      ],
      "text/plain": [
       "    benchmark            histogram query  operator_count operator_type  \\\n",
       "81  JoinOrder  EquiHeightHistogram    1a               0  JoinHashLeft   \n",
       "82  JoinOrder  EquiHeightHistogram    1a               1  JoinHashLeft   \n",
       "84  JoinOrder  EquiHeightHistogram    1a               3  JoinHashLeft   \n",
       "\n",
       "    real_input  real_output  estimated_input  estimated_output  \n",
       "81     2528312          105        2528312.0        659.288025  \n",
       "82     1380035          250        1380035.0      12212.704102  \n",
       "84     2609129         8309        2609129.0      29301.695312  "
      ]
     },
     "execution_count": 91,
     "metadata": {},
     "output_type": "execute_result"
    }
   ],
   "source": [
    "df_list[0][0][0]"
   ]
  },
  {
   "cell_type": "code",
   "execution_count": 99,
   "id": "e3d58711-4171-4223-aee4-a3932aa503c2",
   "metadata": {},
   "outputs": [],
   "source": [
    "\n",
    "dffff = generate_error_table(df_list)"
   ]
  },
  {
   "cell_type": "code",
   "execution_count": 100,
   "id": "01160ef7-739c-4de3-aacd-97e61a75f63c",
   "metadata": {},
   "outputs": [
    {
     "data": {
      "text/html": [
       "<div>\n",
       "<style scoped>\n",
       "    .dataframe tbody tr th:only-of-type {\n",
       "        vertical-align: middle;\n",
       "    }\n",
       "\n",
       "    .dataframe tbody tr th {\n",
       "        vertical-align: top;\n",
       "    }\n",
       "\n",
       "    .dataframe thead th {\n",
       "        text-align: right;\n",
       "    }\n",
       "</style>\n",
       "<table border=\"1\" class=\"dataframe\">\n",
       "  <thead>\n",
       "    <tr style=\"text-align: right;\">\n",
       "      <th></th>\n",
       "      <th>histogram</th>\n",
       "      <th>benchmark</th>\n",
       "      <th>operator_type</th>\n",
       "      <th>mean_squared_error</th>\n",
       "      <th>mean_q_error</th>\n",
       "      <th>mean_pseudo_q_error</th>\n",
       "      <th>mean_relative_error</th>\n",
       "      <th>mean_error</th>\n",
       "    </tr>\n",
       "  </thead>\n",
       "  <tbody>\n",
       "    <tr>\n",
       "      <th>0</th>\n",
       "      <td>EquiHeightHistogram</td>\n",
       "      <td>JoinOrder</td>\n",
       "      <td>JoinHashLeft</td>\n",
       "      <td>1.497710e+07</td>\n",
       "      <td>1.504006</td>\n",
       "      <td>1.504006</td>\n",
       "      <td>1.427083</td>\n",
       "      <td>859.222755</td>\n",
       "    </tr>\n",
       "    <tr>\n",
       "      <th>1</th>\n",
       "      <td>EquiHeightHistogram</td>\n",
       "      <td>JoinOrder</td>\n",
       "      <td>TableScan</td>\n",
       "      <td>0.000000e+00</td>\n",
       "      <td>0.076923</td>\n",
       "      <td>0.076923</td>\n",
       "      <td>0.000000</td>\n",
       "      <td>0.000000</td>\n",
       "    </tr>\n",
       "    <tr>\n",
       "      <th>2</th>\n",
       "      <td>EquiHeightHistogram</td>\n",
       "      <td>TPC-H</td>\n",
       "      <td>Aggregate</td>\n",
       "      <td>1.569831e+08</td>\n",
       "      <td>0.308590</td>\n",
       "      <td>0.308590</td>\n",
       "      <td>0.231667</td>\n",
       "      <td>3475.000000</td>\n",
       "    </tr>\n",
       "    <tr>\n",
       "      <th>3</th>\n",
       "      <td>EquiHeightHistogram</td>\n",
       "      <td>TPC-H</td>\n",
       "      <td>JoinHashLeft</td>\n",
       "      <td>1.971115e+05</td>\n",
       "      <td>147919.782885</td>\n",
       "      <td>5.723004</td>\n",
       "      <td>0.045279</td>\n",
       "      <td>59.632660</td>\n",
       "    </tr>\n",
       "    <tr>\n",
       "      <th>4</th>\n",
       "      <td>EquiHeightHistogram</td>\n",
       "      <td>TPC-H</td>\n",
       "      <td>JoinHashRight</td>\n",
       "      <td>7.742059e+04</td>\n",
       "      <td>25.803540</td>\n",
       "      <td>25.803540</td>\n",
       "      <td>25.726255</td>\n",
       "      <td>47.167289</td>\n",
       "    </tr>\n",
       "    <tr>\n",
       "      <th>5</th>\n",
       "      <td>EquiHeightHistogram</td>\n",
       "      <td>TPC-H</td>\n",
       "      <td>TableScan</td>\n",
       "      <td>2.019276e+04</td>\n",
       "      <td>24065.603279</td>\n",
       "      <td>1.581752</td>\n",
       "      <td>0.024440</td>\n",
       "      <td>19.472229</td>\n",
       "    </tr>\n",
       "    <tr>\n",
       "      <th>6</th>\n",
       "      <td>EquiWidthHistogram</td>\n",
       "      <td>TPC-H</td>\n",
       "      <td>JoinHashLeft</td>\n",
       "      <td>0.000000e+00</td>\n",
       "      <td>0.076923</td>\n",
       "      <td>0.076923</td>\n",
       "      <td>0.000000</td>\n",
       "      <td>0.000000</td>\n",
       "    </tr>\n",
       "  </tbody>\n",
       "</table>\n",
       "</div>"
      ],
      "text/plain": [
       "             histogram  benchmark  operator_type  mean_squared_error  \\\n",
       "0  EquiHeightHistogram  JoinOrder   JoinHashLeft        1.497710e+07   \n",
       "1  EquiHeightHistogram  JoinOrder      TableScan        0.000000e+00   \n",
       "2  EquiHeightHistogram      TPC-H      Aggregate        1.569831e+08   \n",
       "3  EquiHeightHistogram      TPC-H   JoinHashLeft        1.971115e+05   \n",
       "4  EquiHeightHistogram      TPC-H  JoinHashRight        7.742059e+04   \n",
       "5  EquiHeightHistogram      TPC-H      TableScan        2.019276e+04   \n",
       "6   EquiWidthHistogram      TPC-H   JoinHashLeft        0.000000e+00   \n",
       "\n",
       "    mean_q_error  mean_pseudo_q_error  mean_relative_error   mean_error  \n",
       "0       1.504006             1.504006             1.427083   859.222755  \n",
       "1       0.076923             0.076923             0.000000     0.000000  \n",
       "2       0.308590             0.308590             0.231667  3475.000000  \n",
       "3  147919.782885             5.723004             0.045279    59.632660  \n",
       "4      25.803540            25.803540            25.726255    47.167289  \n",
       "5   24065.603279             1.581752             0.024440    19.472229  \n",
       "6       0.076923             0.076923             0.000000     0.000000  "
      ]
     },
     "execution_count": 100,
     "metadata": {},
     "output_type": "execute_result"
    }
   ],
   "source": [
    "dffff"
   ]
  },
  {
   "cell_type": "code",
   "execution_count": null,
   "id": "f363311d-832f-4487-bc22-bbc775dd69ed",
   "metadata": {},
   "outputs": [],
   "source": []
  }
 ],
 "metadata": {
  "kernelspec": {
   "display_name": "Python 3 (ipykernel)",
   "language": "python",
   "name": "python3"
  },
  "language_info": {
   "codemirror_mode": {
    "name": "ipython",
    "version": 3
   },
   "file_extension": ".py",
   "mimetype": "text/x-python",
   "name": "python",
   "nbconvert_exporter": "python",
   "pygments_lexer": "ipython3",
   "version": "3.9.15"
  }
 },
 "nbformat": 4,
 "nbformat_minor": 5
}
