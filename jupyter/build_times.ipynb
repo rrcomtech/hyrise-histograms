{
 "cells": [
  {
   "cell_type": "code",
   "execution_count": null,
   "id": "2212b43e-2d3e-47c0-a233-d20bf40cf734",
   "metadata": {},
   "outputs": [],
   "source": [
    "import pandas as pd\n",
    "import matplotlib.pyplot as plt\n",
    "import numpy as np\n",
    "import seaborn as sns\n",
    "import glob\n",
    "import os\n",
    "\n",
    "%matplotlib inline"
   ]
  },
  {
   "cell_type": "markdown",
   "id": "b320ab2d-cd36-4638-842b-a4a7db8c337f",
   "metadata": {
    "tags": []
   },
   "source": [
    "# Build Time Evaluation"
   ]
  },
  {
   "cell_type": "code",
   "execution_count": null,
   "id": "881dc414-8770-4192-8471-61f0456c70b6",
   "metadata": {},
   "outputs": [],
   "source": [
    "build_time_paths = glob.glob(\"data/20230310/**/*build_times*\", recursive=True)\n",
    "build_time_dataframes = []\n",
    "\n",
    "for path in build_time_paths:\n",
    "    benchmark_name = (path.split(\"/\")[-1]).split(\"-\")[0]    \n",
    "    csv = pd.read_csv(path)\n",
    "    csv.insert(0, column=\"BENCHMARK_NAME\", value=benchmark_name)    \n",
    "    build_time_dataframes.append(csv)\n",
    "\n",
    "build_times = pd.concat(build_time_dataframes)\n",
    "build_times = build_times.query('COLUMN_DATA_TYPE != \"string\"')"
   ]
  },
  {
   "cell_type": "markdown",
   "id": "f8c3f1f2-e570-4258-bb41-8f5352ee7b92",
   "metadata": {},
   "source": [
    "## Summed Build Time per Benchmark"
   ]
  },
  {
   "cell_type": "code",
   "execution_count": null,
   "id": "33587191-ecc4-41ac-9b74-e0525c0d7ddd",
   "metadata": {},
   "outputs": [],
   "source": [
    "def sum_grouping(df):\n",
    "    return df.drop(columns=[\"COLUMN_ID\"]).groupby([\"BENCHMARK_NAME\", \"COLUMN_DATA_TYPE\", \"HISTOGRAM_NAME\"]).sum()\n",
    "\n",
    "summed_bts = sum_grouping(build_times)\n",
    "display(summed_bts)"
   ]
  },
  {
   "cell_type": "markdown",
   "id": "cd348194-c59b-4e52-8911-0829327481a6",
   "metadata": {},
   "source": [
    "### Average Build Times per Benchmark"
   ]
  },
  {
   "cell_type": "code",
   "execution_count": null,
   "id": "131254dd-dd14-447e-ba8f-dfd728e4292b",
   "metadata": {},
   "outputs": [],
   "source": [
    "def avg_grouping(df):\n",
    "    return df.drop(columns=[\"COLUMN_ID\"]).groupby([\"BENCHMARK_NAME\", \"COLUMN_DATA_TYPE\", \"HISTOGRAM_NAME\"]).mean()\n",
    "\n",
    "display(avg_grouping(build_times))"
   ]
  },
  {
   "cell_type": "markdown",
   "id": "d5a81aad-5f44-4306-b393-1502c56544af",
   "metadata": {},
   "source": [
    "## Total Build Times"
   ]
  },
  {
   "cell_type": "code",
   "execution_count": null,
   "id": "817e4234-798a-4f27-a671-8ae2cadb2e23",
   "metadata": {},
   "outputs": [],
   "source": [
    "summed_bts_df = summed_bts.reset_index()\n",
    "def visualize_benchmark(benchmark_name):\n",
    "    bts = summed_bts_df[summed_bts_df[\"BENCHMARK_NAME\"] == benchmark_name]\n",
    "    bts_float = bts.query('COLUMN_DATA_TYPE == \"float\"')\n",
    "    bts_int = bts.query('COLUMN_DATA_TYPE == \"int\"')\n",
    "\n",
    "    if (bts_float.size > 0):\n",
    "        sns.set_context('paper')\n",
    "        sns.set(rc={'figure.figsize':(15,5)})\n",
    "        ax = sns.barplot(x = 'HISTOGRAM_NAME', y = 'BUILD_TIME', data = bts_float,\n",
    "                    palette = 'Blues', edgecolor = 'w')\n",
    "        ax.set(xlabel='Histogram Name (floats)', ylabel='Build Time in s')\n",
    "        plt.show()\n",
    "    \n",
    "    if (bts_int.size > 0):\n",
    "        sns.set_context('paper')\n",
    "        sns.set(rc={'figure.figsize':(15,5)})\n",
    "        ax = sns.barplot(x = 'HISTOGRAM_NAME', y = 'BUILD_TIME', data = bts_int,\n",
    "                    palette = 'Blues', edgecolor = 'w')\n",
    "        ax.set(xlabel='Histogram Name (ints)', ylabel='Build Time in s')\n",
    "        plt.show()"
   ]
  },
  {
   "cell_type": "markdown",
   "id": "c8c81f75-0a56-4396-93b7-bd23b3363768",
   "metadata": {},
   "source": [
    "### JOB Build Times"
   ]
  },
  {
   "cell_type": "code",
   "execution_count": null,
   "id": "0348c83d-d5be-4336-a36a-96a1a1ad7776",
   "metadata": {},
   "outputs": [],
   "source": [
    "visualize_benchmark(\"job\")"
   ]
  },
  {
   "cell_type": "markdown",
   "id": "45b3250d-5bdc-404d-abfc-c40671401fea",
   "metadata": {},
   "source": [
    "### TPCH Build Times"
   ]
  },
  {
   "cell_type": "code",
   "execution_count": null,
   "id": "10f37ef7-cbfe-4ae6-9e4b-d711c8c10100",
   "metadata": {},
   "outputs": [],
   "source": [
    "visualize_benchmark(\"tpch\")"
   ]
  },
  {
   "cell_type": "markdown",
   "id": "a6303af0-6513-4323-aedc-da2ec272587a",
   "metadata": {},
   "source": [
    "### TPCC Build Times"
   ]
  },
  {
   "cell_type": "code",
   "execution_count": null,
   "id": "99ab594f-2265-42f1-9810-ac2dd934d1d4",
   "metadata": {},
   "outputs": [],
   "source": [
    "visualize_benchmark(\"tpcc\")"
   ]
  },
  {
   "cell_type": "markdown",
   "id": "2bdfd3b3-3233-4072-b857-bb9fb2cd1596",
   "metadata": {},
   "source": [
    "### TPCDS Build Times"
   ]
  },
  {
   "cell_type": "code",
   "execution_count": null,
   "id": "506b55d8-0b8f-49b1-a260-e9fc58d98cf2",
   "metadata": {},
   "outputs": [],
   "source": [
    "visualize_benchmark(\"tpcds\")"
   ]
  }
 ],
 "metadata": {
  "kernelspec": {
   "display_name": "Python 3 (ipykernel)",
   "language": "python",
   "name": "python3"
  },
  "language_info": {
   "codemirror_mode": {
    "name": "ipython",
    "version": 3
   },
   "file_extension": ".py",
   "mimetype": "text/x-python",
   "name": "python",
   "nbconvert_exporter": "python",
   "pygments_lexer": "ipython3",
   "version": "3.9.13"
  }
 },
 "nbformat": 4,
 "nbformat_minor": 5
}
